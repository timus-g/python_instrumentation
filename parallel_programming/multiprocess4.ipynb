{
 "cells": [
  {
   "cell_type": "code",
   "execution_count": 1,
   "metadata": {},
   "outputs": [],
   "source": [
    "import multiprocessing"
   ]
  },
  {
   "cell_type": "code",
   "execution_count": 2,
   "metadata": {},
   "outputs": [],
   "source": [
    "def print_records(records):\n",
    "    for record in records:\n",
    "        print(\"Name: {0}\\nScore: {1}\\n\".format(record[0], record[1]))\n",
    "    \n",
    "def insert_records(record, records):\n",
    "    records.append(record)\n",
    "    print(\"New record added!\\n\")"
   ]
  },
  {
   "cell_type": "code",
   "execution_count": 3,
   "metadata": {},
   "outputs": [],
   "source": [
    "records = [('Sam',10),('Adam',9),('Kevin',9)]\n",
    "new_record = ('Jeff', 8) "
   ]
  },
  {
   "cell_type": "code",
   "execution_count": 6,
   "metadata": {},
   "outputs": [
    {
     "name": "stdout",
     "output_type": "stream",
     "text": [
      "New record added!\n",
      "\n",
      "Name: Sam\n",
      "Score: 10\n",
      "\n",
      "Name: Adam\n",
      "Score: 9\n",
      "\n",
      "Name: Kevin\n",
      "Score: 9\n",
      "\n",
      "Name: Jeff\n",
      "Score: 8\n",
      "\n"
     ]
    }
   ],
   "source": [
    "with multiprocessing.Manager() as manager:\n",
    "    records = manager.list([('Sam',10),('Adam',9),('Kevin',9)])\n",
    "    new_record = ('Jeff', 8)\n",
    "\n",
    "\n",
    "    p1 = multiprocessing.Process(target=insert_records, args=(new_record,records))\n",
    "    p2 = multiprocessing.Process(target=print_records, args=(records,))\n",
    "\n",
    "    p1.start()\n",
    "    p1.join()\n",
    "\n",
    "    p2.start()\n",
    "    p2.join()"
   ]
  },
  {
   "cell_type": "code",
   "execution_count": null,
   "metadata": {},
   "outputs": [],
   "source": [
    "p1.start()\n",
    "p1.join()"
   ]
  }
 ],
 "metadata": {
  "kernelspec": {
   "display_name": "base",
   "language": "python",
   "name": "python3"
  },
  "language_info": {
   "codemirror_mode": {
    "name": "ipython",
    "version": 3
   },
   "file_extension": ".py",
   "mimetype": "text/x-python",
   "name": "python",
   "nbconvert_exporter": "python",
   "pygments_lexer": "ipython3",
   "version": "3.11.7"
  }
 },
 "nbformat": 4,
 "nbformat_minor": 2
}
